{
 "cells": [
  {
   "cell_type": "markdown",
   "metadata": {},
   "source": [
    "# King County House Sales Analysis: Decoding Real Estate Dynamics\n",
    "\n",
    "## Project Overview\n",
    "\n",
    "Dive into the heart of King County's real estate market, from Seattle's bustling urban centers to its serene suburban landscapes. Our mission: harness the power of regression modeling to unravel the intricate factors influencing house prices, transforming raw data into actionable insights for industry professionals and homeowners alike.\n",
    "\n",
    "## Business Understanding\n",
    "\n",
    "### The Challenge\n",
    "In a market where factors from square footage to school districts can dramatically sway property values, understanding the drivers of home prices is paramount. We aim to develop a predictive model that combines the nuanced understanding of a seasoned realtor with the analytical precision of data science.\n",
    "\n",
    "### Stakeholder Impact\n",
    "- **Realtors**: Empower with data-driven pricing strategies\n",
    "- **Homebuyers**: Guide towards informed investment decisions\n",
    "- **Sellers**: Illuminate the true market value of properties\n",
    "- **Developers**: Identify lucrative development opportunities\n",
    "- **Urban Planners**: Inform future neighborhood development strategies\n",
    "\n",
    "### Expected Outcomes\n",
    "- Highly accurate house price predictions\n",
    "- Identification of key value-influencing features\n",
    "- Actionable insights for all real estate market participants\n",
    "\n",
    "## Dataset Understanding\n",
    "\n",
    "### Data Source\n",
    "We'll be analyzing the King County House Sales dataset (kc_house_data.csv), a comprehensive repository of real estate transactions.\n",
    "\n",
    "### Key Features\n",
    "Our dataset includes 21 features for each house sale:\n",
    "\n",
    "1. `id`: Unique identifier for each property\n",
    "2. `date`: Date of the house sale\n",
    "3. `price`: Sale price (our target variable)\n",
    "4. `bedrooms`: Number of bedrooms\n",
    "5. `bathrooms`: Number of bathrooms\n",
    "6. `sqft_living`: Square footage of living space\n",
    "7. `sqft_lot`: Square footage of the lot\n",
    "8. `floors`: Number of floors\n",
    "9. `waterfront`: Whether the property has a waterfront view\n",
    "10. `view`: Quality of view from the property\n",
    "11. `condition`: Overall condition of the house\n",
    "12. `grade`: Overall grade given to the housing unit\n",
    "13. `sqft_above`: Square footage above ground level\n",
    "14. `sqft_basement`: Square footage of the basement\n",
    "15. `yr_built`: Year the house was built\n",
    "16. `yr_renovated`: Year of the house's last renovation\n",
    "17. `zipcode`: ZIP code of the area\n",
    "18. `lat`: Latitude coordinate\n",
    "19. `long`: Longitude coordinate\n",
    "20. `sqft_living15`: Living room area in 2015 (implies some remodeling)\n",
    "21. `sqft_lot15`: Lot size area in 2015 (implies some remodeling)\n",
    "\n",
    "### Data Considerations\n",
    "- Some features (e.g., 'view', 'condition', 'grade') may require interpretation or additional research to understand their exact meanings and scales.\n",
    "- We'll need to carefully consider how to handle potential outliers and missing values, especially in fields like 'yr_renovated'.\n",
    "- The presence of both 'sqft_living' and 'sqft_living15' suggests potential for interesting temporal analysis.\n",
    "\n",
    "## Our Approach: From Data Points to Market Insights\n",
    "\n",
    "1. **Exploratory Data Analysis**: Uncover patterns and relationships within our 21 features\n",
    "2. **Feature Engineering**: Craft powerful predictors, possibly combining or deriving new features from our existing set\n",
    "3. **Model Development**: Build and refine our regression model, carefully selecting the most impactful features\n",
    "4. **Insight Extraction**: Translate model outputs into clear, actionable insights\n",
    "5. **Strategic Recommendations**: Develop targeted advice for each stakeholder group based on our findings\n",
    "\n",
    "By decoding the intricacies of King County's housing market through these 21 key features, we're not just predicting prices – we're providing a comprehensive roadmap for navigating one of America's most dynamic real estate markets. Let's transform this rich dataset into a vivid story of market trends and opportunities!"
   ]
  },
  {
   "cell_type": "markdown",
   "metadata": {},
   "source": [
    " ## Data Mining & Preparation"
   ]
  },
  {
   "cell_type": "code",
   "execution_count": 2,
   "metadata": {},
   "outputs": [],
   "source": [
    "\n",
    "import seaborn as sns \n",
    "import matplotlib.pyplot as plt\n",
    "import numpy as np\n",
    "import pandas as pd\n",
    "import plotly.io as pio\n",
    "import plotly.graph_objs as go\n",
    "import plotly.express as px\n",
    "\n",
    "import scipy.stats as stats\n",
    "import statsmodels.api as sm\n",
    "import seaborn as sns\n",
    "import warnings\n",
    "\n",
    "from sklearn.preprocessing import LabelEncoder\n",
    "from scipy.stats import skew, kurtosis\n",
    "from sklearn.linear_model import LinearRegression\n",
    "from sklearn.model_selection import cross_val_score\n",
    "from sklearn.model_selection import train_test_split\n",
    "from sklearn.preprocessing import StandardScaler\n",
    "\n",
    "from sklearn.metrics import mean_squared_error, r2_score,mean_absolute_error\n",
    "\n",
    "%matplotlib inline\n",
    "plt.style.use('ggplot')"
   ]
  },
  {
   "cell_type": "code",
   "execution_count": 6,
   "metadata": {},
   "outputs": [
    {
     "data": {
      "text/html": [
       "<div>\n",
       "<style scoped>\n",
       "    .dataframe tbody tr th:only-of-type {\n",
       "        vertical-align: middle;\n",
       "    }\n",
       "\n",
       "    .dataframe tbody tr th {\n",
       "        vertical-align: top;\n",
       "    }\n",
       "\n",
       "    .dataframe thead th {\n",
       "        text-align: right;\n",
       "    }\n",
       "</style>\n",
       "<table border=\"1\" class=\"dataframe\">\n",
       "  <thead>\n",
       "    <tr style=\"text-align: right;\">\n",
       "      <th></th>\n",
       "      <th>id</th>\n",
       "      <th>date</th>\n",
       "      <th>price</th>\n",
       "      <th>bedrooms</th>\n",
       "      <th>bathrooms</th>\n",
       "      <th>sqft_living</th>\n",
       "      <th>sqft_lot</th>\n",
       "      <th>floors</th>\n",
       "      <th>waterfront</th>\n",
       "      <th>view</th>\n",
       "      <th>...</th>\n",
       "      <th>grade</th>\n",
       "      <th>sqft_above</th>\n",
       "      <th>sqft_basement</th>\n",
       "      <th>yr_built</th>\n",
       "      <th>yr_renovated</th>\n",
       "      <th>zipcode</th>\n",
       "      <th>lat</th>\n",
       "      <th>long</th>\n",
       "      <th>sqft_living15</th>\n",
       "      <th>sqft_lot15</th>\n",
       "    </tr>\n",
       "  </thead>\n",
       "  <tbody>\n",
       "    <tr>\n",
       "      <th>0</th>\n",
       "      <td>7129300520</td>\n",
       "      <td>10/13/2014</td>\n",
       "      <td>221900.0</td>\n",
       "      <td>3</td>\n",
       "      <td>1.00</td>\n",
       "      <td>1180</td>\n",
       "      <td>5650</td>\n",
       "      <td>1.0</td>\n",
       "      <td>NaN</td>\n",
       "      <td>NONE</td>\n",
       "      <td>...</td>\n",
       "      <td>7 Average</td>\n",
       "      <td>1180</td>\n",
       "      <td>0.0</td>\n",
       "      <td>1955</td>\n",
       "      <td>0.0</td>\n",
       "      <td>98178</td>\n",
       "      <td>47.5112</td>\n",
       "      <td>-122.257</td>\n",
       "      <td>1340</td>\n",
       "      <td>5650</td>\n",
       "    </tr>\n",
       "    <tr>\n",
       "      <th>1</th>\n",
       "      <td>6414100192</td>\n",
       "      <td>12/9/2014</td>\n",
       "      <td>538000.0</td>\n",
       "      <td>3</td>\n",
       "      <td>2.25</td>\n",
       "      <td>2570</td>\n",
       "      <td>7242</td>\n",
       "      <td>2.0</td>\n",
       "      <td>NO</td>\n",
       "      <td>NONE</td>\n",
       "      <td>...</td>\n",
       "      <td>7 Average</td>\n",
       "      <td>2170</td>\n",
       "      <td>400.0</td>\n",
       "      <td>1951</td>\n",
       "      <td>1991.0</td>\n",
       "      <td>98125</td>\n",
       "      <td>47.7210</td>\n",
       "      <td>-122.319</td>\n",
       "      <td>1690</td>\n",
       "      <td>7639</td>\n",
       "    </tr>\n",
       "    <tr>\n",
       "      <th>2</th>\n",
       "      <td>5631500400</td>\n",
       "      <td>2/25/2015</td>\n",
       "      <td>180000.0</td>\n",
       "      <td>2</td>\n",
       "      <td>1.00</td>\n",
       "      <td>770</td>\n",
       "      <td>10000</td>\n",
       "      <td>1.0</td>\n",
       "      <td>NO</td>\n",
       "      <td>NONE</td>\n",
       "      <td>...</td>\n",
       "      <td>6 Low Average</td>\n",
       "      <td>770</td>\n",
       "      <td>0.0</td>\n",
       "      <td>1933</td>\n",
       "      <td>NaN</td>\n",
       "      <td>98028</td>\n",
       "      <td>47.7379</td>\n",
       "      <td>-122.233</td>\n",
       "      <td>2720</td>\n",
       "      <td>8062</td>\n",
       "    </tr>\n",
       "    <tr>\n",
       "      <th>3</th>\n",
       "      <td>2487200875</td>\n",
       "      <td>12/9/2014</td>\n",
       "      <td>604000.0</td>\n",
       "      <td>4</td>\n",
       "      <td>3.00</td>\n",
       "      <td>1960</td>\n",
       "      <td>5000</td>\n",
       "      <td>1.0</td>\n",
       "      <td>NO</td>\n",
       "      <td>NONE</td>\n",
       "      <td>...</td>\n",
       "      <td>7 Average</td>\n",
       "      <td>1050</td>\n",
       "      <td>910.0</td>\n",
       "      <td>1965</td>\n",
       "      <td>0.0</td>\n",
       "      <td>98136</td>\n",
       "      <td>47.5208</td>\n",
       "      <td>-122.393</td>\n",
       "      <td>1360</td>\n",
       "      <td>5000</td>\n",
       "    </tr>\n",
       "    <tr>\n",
       "      <th>4</th>\n",
       "      <td>1954400510</td>\n",
       "      <td>2/18/2015</td>\n",
       "      <td>510000.0</td>\n",
       "      <td>3</td>\n",
       "      <td>2.00</td>\n",
       "      <td>1680</td>\n",
       "      <td>8080</td>\n",
       "      <td>1.0</td>\n",
       "      <td>NO</td>\n",
       "      <td>NONE</td>\n",
       "      <td>...</td>\n",
       "      <td>8 Good</td>\n",
       "      <td>1680</td>\n",
       "      <td>0.0</td>\n",
       "      <td>1987</td>\n",
       "      <td>0.0</td>\n",
       "      <td>98074</td>\n",
       "      <td>47.6168</td>\n",
       "      <td>-122.045</td>\n",
       "      <td>1800</td>\n",
       "      <td>7503</td>\n",
       "    </tr>\n",
       "  </tbody>\n",
       "</table>\n",
       "<p>5 rows × 21 columns</p>\n",
       "</div>"
      ],
      "text/plain": [
       "           id        date     price  bedrooms  bathrooms  sqft_living  \\\n",
       "0  7129300520  10/13/2014  221900.0         3       1.00         1180   \n",
       "1  6414100192   12/9/2014  538000.0         3       2.25         2570   \n",
       "2  5631500400   2/25/2015  180000.0         2       1.00          770   \n",
       "3  2487200875   12/9/2014  604000.0         4       3.00         1960   \n",
       "4  1954400510   2/18/2015  510000.0         3       2.00         1680   \n",
       "\n",
       "   sqft_lot  floors waterfront  view  ...          grade sqft_above  \\\n",
       "0      5650     1.0        NaN  NONE  ...      7 Average       1180   \n",
       "1      7242     2.0         NO  NONE  ...      7 Average       2170   \n",
       "2     10000     1.0         NO  NONE  ...  6 Low Average        770   \n",
       "3      5000     1.0         NO  NONE  ...      7 Average       1050   \n",
       "4      8080     1.0         NO  NONE  ...         8 Good       1680   \n",
       "\n",
       "   sqft_basement yr_built  yr_renovated  zipcode      lat     long  \\\n",
       "0            0.0     1955           0.0    98178  47.5112 -122.257   \n",
       "1          400.0     1951        1991.0    98125  47.7210 -122.319   \n",
       "2            0.0     1933           NaN    98028  47.7379 -122.233   \n",
       "3          910.0     1965           0.0    98136  47.5208 -122.393   \n",
       "4            0.0     1987           0.0    98074  47.6168 -122.045   \n",
       "\n",
       "   sqft_living15  sqft_lot15  \n",
       "0           1340        5650  \n",
       "1           1690        7639  \n",
       "2           2720        8062  \n",
       "3           1360        5000  \n",
       "4           1800        7503  \n",
       "\n",
       "[5 rows x 21 columns]"
      ]
     },
     "execution_count": 6,
     "metadata": {},
     "output_type": "execute_result"
    }
   ],
   "source": [
    "#Dataset overview\n",
    "df = pd.read_csv(\"kc_house_data.csv\")\n",
    "df.head()\n"
   ]
  },
  {
   "cell_type": "code",
   "execution_count": 9,
   "metadata": {},
   "outputs": [
    {
     "data": {
      "text/plain": [
       "Index(['id', 'date', 'price', 'bedrooms', 'bathrooms', 'sqft_living',\n",
       "       'sqft_lot', 'floors', 'waterfront', 'view', 'condition', 'grade',\n",
       "       'sqft_above', 'sqft_basement', 'yr_built', 'yr_renovated', 'zipcode',\n",
       "       'lat', 'long', 'sqft_living15', 'sqft_lot15'],\n",
       "      dtype='object')"
      ]
     },
     "execution_count": 9,
     "metadata": {},
     "output_type": "execute_result"
    }
   ],
   "source": [
    "df.columns\n"
   ]
  },
  {
   "cell_type": "markdown",
   "metadata": {},
   "source": [
    "There are 21 columns in our dataset"
   ]
  },
  {
   "cell_type": "code",
   "execution_count": 11,
   "metadata": {},
   "outputs": [
    {
     "data": {
      "text/plain": [
       "(21597, 21)"
      ]
     },
     "execution_count": 11,
     "metadata": {},
     "output_type": "execute_result"
    }
   ],
   "source": [
    "#Check the shape of the dataset\n",
    "df.shape"
   ]
  },
  {
   "cell_type": "markdown",
   "metadata": {},
   "source": [
    "Our Dataset contains 21597 rows and 21 columns"
   ]
  },
  {
   "cell_type": "code",
   "execution_count": 18,
   "metadata": {},
   "outputs": [
    {
     "data": {
      "text/plain": [
       "id          date       price     bedrooms  bathrooms  sqft_living  sqft_lot  floors  waterfront  view  condition  grade      sqft_above  sqft_basement  yr_built  yr_renovated  zipcode  lat      long      sqft_living15  sqft_lot15\n",
       "1000102     4/22/2015  300000.0  6         3.00       2400         9373      2.0     NO          NONE  Average    7 Average  2400        0.0            1991      0.0           98002    47.3262  -122.214  2060           7316          1\n",
       "6362900080  8/14/2014  525000.0  6         3.00       2880         7560      2.0     NO          NONE  Average    7 Average  2880        0.0            1980      0.0           98144    47.5959  -122.300  1470           1815          1\n",
       "6362900172  9/23/2014  499950.0  3         3.50       1820         1991      2.0     NO          NONE  Average    8 Good     1430        390.0          2014      0.0           98144    47.5960  -122.298  1550           1460          1\n",
       "6365900065  7/18/2014  334850.0  2         1.00       870          5635      1.0     NO          NONE  Average    7 Average  870         0.0            1948      0.0           98116    47.5676  -122.398  1310           5750          1\n",
       "6370000005  8/27/2014  495500.0  3         1.75       2130         6360      1.0     NO          NONE  Average    7 Average  1720        410.0          1959      0.0           98125    47.7059  -122.301  1540           6361          1\n",
       "                                                                                                                                                                                                                                        ..\n",
       "2768100690  4/23/2015  513000.0  3         1.75       1710         5000      1.0     NO          NONE  Good       7 Average  1110        600.0          1944      0.0           98107    47.6689  -122.370  920            5000          1\n",
       "2768200090  3/17/2015  890000.0  6         3.75       2770         5000      1.0     NO          NONE  Average    8 Good     1870        900.0          1969      0.0           98107    47.6690  -122.365  1570           2108          1\n",
       "2768200209  10/6/2014  529950.0  2         2.50       1500         1174      2.0     NO          NONE  Average    8 Good     1140        360.0          2014      0.0           98107    47.6689  -122.363  1550           1519          1\n",
       "2768200210  8/25/2014  499000.0  2         2.50       1320         1157      2.0     NO          NONE  Average    8 Good     990         330.0          2014      0.0           98107    47.6689  -122.363  1550           1519          1\n",
       "9895000040  7/3/2014   399900.0  2         1.75       1410         1005      1.5     NO          NONE  Average    9 Better   900         510.0          2011      0.0           98027    47.5446  -122.018  1440           1188          1\n",
       "Name: count, Length: 15762, dtype: int64"
      ]
     },
     "execution_count": 18,
     "metadata": {},
     "output_type": "execute_result"
    }
   ],
   "source": [
    "df.value_counts()\n"
   ]
  },
  {
   "cell_type": "code",
   "execution_count": 19,
   "metadata": {},
   "outputs": [
    {
     "data": {
      "text/plain": [
       "id                  0\n",
       "date                0\n",
       "price               0\n",
       "bedrooms            0\n",
       "bathrooms           0\n",
       "sqft_living         0\n",
       "sqft_lot            0\n",
       "floors              0\n",
       "waterfront       2376\n",
       "view               63\n",
       "condition           0\n",
       "grade               0\n",
       "sqft_above          0\n",
       "sqft_basement       0\n",
       "yr_built            0\n",
       "yr_renovated     3842\n",
       "zipcode             0\n",
       "lat                 0\n",
       "long                0\n",
       "sqft_living15       0\n",
       "sqft_lot15          0\n",
       "dtype: int64"
      ]
     },
     "execution_count": 19,
     "metadata": {},
     "output_type": "execute_result"
    }
   ],
   "source": [
    "df.isna().sum()"
   ]
  },
  {
   "cell_type": "markdown",
   "metadata": {},
   "source": [
    "Waterfront column has 2376 null values while yr_renovated hase 3842 null values"
   ]
  },
  {
   "cell_type": "code",
   "execution_count": null,
   "metadata": {},
   "outputs": [],
   "source": []
  }
 ],
 "metadata": {
  "kernelspec": {
   "display_name": "base",
   "language": "python",
   "name": "python3"
  },
  "language_info": {
   "codemirror_mode": {
    "name": "ipython",
    "version": 3
   },
   "file_extension": ".py",
   "mimetype": "text/x-python",
   "name": "python",
   "nbconvert_exporter": "python",
   "pygments_lexer": "ipython3",
   "version": "3.11.5"
  }
 },
 "nbformat": 4,
 "nbformat_minor": 2
}
